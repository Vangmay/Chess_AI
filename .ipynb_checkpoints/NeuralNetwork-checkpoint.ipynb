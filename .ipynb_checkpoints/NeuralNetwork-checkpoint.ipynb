{
 "cells": [
  {
   "cell_type": "code",
   "execution_count": 1,
   "id": "f06abd3f",
   "metadata": {},
   "outputs": [],
   "source": [
    "import tensorflow as tf \n",
    "from tensorflow.keras import datasets,layers,models \n",
    "import numpy as np "
   ]
  },
  {
   "cell_type": "code",
   "execution_count": 2,
   "id": "83b5d97f",
   "metadata": {},
   "outputs": [],
   "source": [
    "class ChessDataset():\n",
    "    def __init__(self):\n",
    "        data = np.load(\"dataset_1kGames.npz\")\n",
    "        self.X = data['arr_0']\n",
    "        self.Y = data['arr_1']\n",
    "    def __len__(self):\n",
    "        return self.x.shape[0]\n",
    "    def GetItem(self,idx):\n",
    "        return {'X':self.X[idx], 'Y':self.Y[idx]}"
   ]
  },
  {
   "cell_type": "code",
   "execution_count": 4,
   "id": "63d2ff71",
   "metadata": {},
   "outputs": [
    {
     "name": "stdout",
     "output_type": "stream",
     "text": [
      "(5, 8, 8)\n"
     ]
    },
    {
     "data": {
      "text/plain": [
       "{'X': array([[[0, 0, 0, 0, 0, 0, 0, 0],\n",
       "         [0, 0, 0, 0, 0, 0, 0, 0],\n",
       "         [0, 0, 0, 0, 0, 0, 0, 0],\n",
       "         [0, 0, 0, 0, 0, 0, 0, 0],\n",
       "         [0, 0, 0, 1, 0, 0, 0, 0],\n",
       "         [1, 0, 0, 0, 1, 1, 0, 0],\n",
       "         [0, 1, 1, 0, 1, 1, 1, 1],\n",
       "         [1, 1, 1, 1, 0, 1, 1, 0]],\n",
       " \n",
       "        [[1, 0, 0, 1, 1, 0, 1, 0],\n",
       "         [0, 0, 0, 0, 0, 0, 0, 0],\n",
       "         [0, 0, 0, 0, 0, 0, 0, 0],\n",
       "         [0, 0, 0, 0, 0, 0, 0, 0],\n",
       "         [0, 0, 0, 0, 0, 0, 0, 0],\n",
       "         [0, 0, 0, 0, 0, 0, 0, 0],\n",
       "         [0, 0, 0, 0, 0, 0, 0, 0],\n",
       "         [1, 0, 0, 1, 0, 1, 1, 0]],\n",
       " \n",
       "        [[0, 1, 1, 0, 0, 0, 1, 0],\n",
       "         [0, 0, 0, 0, 0, 0, 1, 0],\n",
       "         [0, 0, 0, 0, 0, 1, 0, 0],\n",
       "         [0, 0, 0, 0, 0, 0, 0, 0],\n",
       "         [0, 0, 0, 0, 0, 0, 0, 0],\n",
       "         [0, 0, 0, 0, 0, 1, 0, 0],\n",
       "         [0, 0, 0, 0, 1, 0, 0, 0],\n",
       "         [0, 1, 1, 0, 0, 0, 1, 0]],\n",
       " \n",
       "        [[0, 0, 1, 1, 0, 0, 0, 0],\n",
       "         [1, 1, 1, 0, 1, 1, 1, 1],\n",
       "         [0, 0, 0, 1, 0, 0, 1, 0],\n",
       "         [0, 0, 0, 0, 0, 0, 0, 0],\n",
       "         [0, 0, 0, 1, 0, 0, 0, 0],\n",
       "         [1, 0, 0, 0, 1, 0, 0, 0],\n",
       "         [0, 1, 1, 0, 1, 1, 1, 1],\n",
       "         [0, 0, 1, 1, 0, 0, 0, 0]],\n",
       " \n",
       "        [[1, 1, 1, 1, 1, 1, 1, 1],\n",
       "         [1, 1, 1, 1, 1, 1, 1, 1],\n",
       "         [1, 1, 1, 1, 1, 1, 1, 1],\n",
       "         [1, 1, 1, 1, 1, 1, 1, 1],\n",
       "         [1, 1, 1, 1, 1, 1, 1, 1],\n",
       "         [1, 1, 1, 1, 1, 1, 1, 1],\n",
       "         [1, 1, 1, 1, 1, 1, 1, 1],\n",
       "         [1, 1, 1, 1, 1, 1, 1, 1]]], dtype=uint8),\n",
       " 'Y': -1}"
      ]
     },
     "execution_count": 4,
     "metadata": {},
     "output_type": "execute_result"
    }
   ],
   "source": [
    "DataSet = ChessDataset()\n",
    "print(DataSet.X[11].shape)\n",
    "DataSet.GetItem(11)"
   ]
  },
  {
   "cell_type": "code",
   "execution_count": 6,
   "id": "c14328c1",
   "metadata": {},
   "outputs": [],
   "source": [
    "def CreateNN():\n",
    "    NeuralNetwork = models.Sequential([\n",
    "        layers.Conv2D(filters=5,kernel_size=3,activation='relu'),\n",
    "        layers.Conv2D(filters=10, kernel_size=3, activation='relu'),\n",
    "        layers.Conv2D(filters=10, kernel_size=3, activation='relu'),\n",
    "        layers.MaxPooling2D((2, 2)),\n",
    "        \n",
    "        layer.Conv2D(filters=20,kernel_size=3,activation='relu'),\n",
    "        layer.Conv2D(filters=20,kernel_size=3,activation='relu'),\n",
    "        layer.Conv2D(filters=20,kernel_size=3,activation='relu'),\n",
    "        layers.MaxPooling2D(2,2),\n",
    "        \n",
    "        layer.Conv2D(filters=40,kernel_size=3,activation='relu'),\n",
    "        layer.Conv2D(filters=40,kernel_size=3,activation='relu'),\n",
    "        layers.Conv2D(filters=40,kernel_size=3,activation='relu'),\n",
    "        layers.MaxPooling2D(2,2)\n",
    "    ])"
   ]
  },
  {
   "cell_type": "code",
   "execution_count": null,
   "id": "c2244400",
   "metadata": {},
   "outputs": [],
   "source": []
  }
 ],
 "metadata": {
  "kernelspec": {
   "display_name": "Python 3 (ipykernel)",
   "language": "python",
   "name": "python3"
  },
  "language_info": {
   "codemirror_mode": {
    "name": "ipython",
    "version": 3
   },
   "file_extension": ".py",
   "mimetype": "text/x-python",
   "name": "python",
   "nbconvert_exporter": "python",
   "pygments_lexer": "ipython3",
   "version": "3.10.5"
  }
 },
 "nbformat": 4,
 "nbformat_minor": 5
}
